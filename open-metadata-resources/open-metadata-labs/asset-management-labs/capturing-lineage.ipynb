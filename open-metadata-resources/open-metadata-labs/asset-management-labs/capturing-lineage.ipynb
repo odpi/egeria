{
 "cells": [
  {
   "cell_type": "markdown",
   "id": "faa5cf5a-0f2f-44c9-b0a6-1031d22e4618",
   "metadata": {},
   "source": [
    "![Egeria Logo](https://raw.githubusercontent.com/odpi/egeria/master/assets/img/ODPi_Egeria_Logo_color.png)\n",
    "\n",
    "### Egeria Hands-On Lab\n",
    "# Welcome to the Open Lineage Lab"
   ]
  },
  {
   "cell_type": "markdown",
   "id": "e2f1d65c-3de8-4aa0-85fd-38a77217f9a4",
   "metadata": {},
   "source": [
    "## Introduction\n",
    "\n",
    "Egeria is an open source project that provides open standards and implementation libraries to connect tools, catalogs and platforms together so they can share information (called metadata) about data and the technology that supports it.\n",
    "\n",
    "In this hands-on lab you will get a chance to work with Egeria metadata and governance servers and learn how to manually create  metadata to describe lineage for data movement processes. For this purpose we use **Open Lineage Services** governance server solution designed to capture and manage a historical warehouse of lineage information.\n",
    "We will also show how using General **Egeria UI** you can search data assets and visualize lineage previously created.\n",
    "\n",
    "To read more about lineage concepts in Egeria, see https://egeria.odpi.org/open-metadata-publication/website/lineage/."
   ]
  },
  {
   "cell_type": "markdown",
   "id": "15d89b8d-da4b-46ee-9c1e-c58e3849be1f",
   "metadata": {
    "tags": []
   },
   "source": [
    "## The Scenario\n",
    "\n",
    "The Egeria team use the personas and scenarios from the fictitious company called Coco Pharmaceuticals. (See https://opengovernance.odpi.org/coco-pharmaceuticals/ for more information).\n",
    "\n",
    "On their business transformation journey after they successfully created data catalog for the data lake, new challenge emerges. Due to regulatory requirements, business came up with request to improve data traceability. Introducing data lineage for critical data flows was ideal use-case for the next level of maturity in their governance program.\n",
    "\n",
    "In this lab we discover how to manually catalogue data assets in the data lake and describe data movement for simple data transformation process executed by their in-house built ETL tool. Finally, the users can find data assets and visualize end to end lineage in the web UI.\n",
    "\n",
    "Peter Profile and Erin Overview got assigned to work on a solution to capture and report data lineage using Egeria. \n"
   ]
  },
  {
   "cell_type": "markdown",
   "id": "2345862c-5c24-482c-81d1-89a9fb954064",
   "metadata": {},
   "source": [
    "## Setting up\n",
    "\n",
    "Coco Pharmaceuticals make widespread use of Egeria for tracking and managing their data and related assets.\n",
    "Figure 1 below shows their metadata servers and the Open Metadata and Governance (OMAG) Server Platforms that are hosting them.  Each metadata server supports a department in the organization.  The servers are distributed across the platform to even out the workload.  Servers can be moved to a different platform if needed.\n",
    "\n",
    "![Figure 1](../images/coco-pharmaceuticals-systems-omag-server-platforms-metadata-server.png)\n",
    "> **Figure 1:** Coco Pharmaceuticals' OMAG Server Platforms\n",
    "\n",
    "For the scope of this lab, we are going to interact with two servers hosted on Data Lake platform:\n",
    " - `cocoMDS1` as metadata repository to store all the assets;\n",
    " - `cocoOLS1` as dedicated governance server to enable open lineage services and historical lineage repository;\n",
    " \n",
    " - `UI platform` running the APIs to support Egeria UI application. \n",
    " \n",
    " > **Important**: When running this lab using [`kubernetes deployment`](https://odpi.github.io/egeria-docs/guides/admin/kubernetes/chart_lab/) the UI Platform is already configured and started for you.\n",
    "\n",
    "The code below checks that the platforms are running.  It checks that the servers are configured and then if they are running on the platform.  If a server is configured, but not running, it will start it.\n",
    "\n",
    "Look for the \"Done.\" message.  This appears when `environment-check` has finished.\n"
   ]
  },
  {
   "cell_type": "code",
   "execution_count": null,
   "id": "d09f4b66-ce75-40ed-b1fc-9669e692ac35",
   "metadata": {},
   "outputs": [],
   "source": [
    "%run ../common/environment-check.ipynb"
   ]
  },
  {
   "cell_type": "markdown",
   "id": "f9dea7e5-5974-4052-bc30-f1676e781fc1",
   "metadata": {},
   "source": [
    "## Excercise 1 \n",
    "\n",
    "### Capturing lineage manually\n",
    "\n",
    "In this exercise Peter and Erin will start with minimal use-case and execute steps to create lineage manually. They are looking at simple high level transformation activity implemented using CocoETL, in-house developed ETL tool that uses python scripting language. Files from previous clinical trials are stored on server location accessible by the tool. `ConvertFileToCSV` is script that reads file coming out of legacy system of records and transform it to csv file structure.\n",
    "\n",
    "![Figure 2](../images/open-lineage-service-lab-assets.png)\n",
    "> Figure 2: Simple asset lineage\n",
    "\n",
    "\n",
    "For use-cases like this one, **Data Engine Access Service (OMAS)** API seems perfect match. It enables external data platforms, tools or engines to interact with Egeria and share metadata needed to construct lineage graph.\n"
   ]
  },
  {
   "cell_type": "markdown",
   "id": "8591f338-2faa-4afa-ac0d-9883dfe26bb7",
   "metadata": {},
   "source": [
    "#### Check if assets are present in the catalog\n",
    "\n",
    "At first, Erin wants to be sure upfront that the assets are not present in the catalog. She uses Egeria UI Asset Catalog search option but fist she needs to log in.\n",
    "\n",
    "> **Important:** When running this lab using kubernetes deployment, make sure that you [expose the Egeria UI](https://odpi.github.io/egeria-docs/guides/admin/kubernetes/chart_lab/#accessing-the-egeria-ui) running in the container to your local network and access it via localhost.\n",
    "\n",
    "\n",
    "\n",
    "To access Egeria UI go to https://localhost:8443/ \n",
    "    \n",
    "    username: erinoverview\n",
    "    password: secret\n",
    "\n",
    "![Erin Logon](../images/egeria-ui-erin-logon.png)\n",
    "> **Figure 3** Log on as Erin Overview"
   ]
  },
  {
   "cell_type": "markdown",
   "id": "13cc5371-db65-4f7a-a9f0-006a0b1f9735",
   "metadata": {},
   "source": [
    "Once in, from the top navigation bar she clicks on `Search` and navigates to *Asset Catalog* search page.\n",
    "\n",
    "![Navigation bar](../images/egeria-ui-nav-bar.png)\n",
    "\n",
    "> **Figure 4** Navigate to Asset Catalog search page\n"
   ]
  },
  {
   "cell_type": "markdown",
   "id": "3ef6eca3-38da-4a63-8989-c773ed50bd33",
   "metadata": {},
   "source": [
    "Erin already knows the descriptive name of the data file asset in interest so she inputs the text \"archive\" in the search box and selects type `Asset` from the list.\n",
    "\n",
    "![Asset Catalog no results](../images/egeria-ui-asset-catalog-asset-not-found.png)\n",
    "> **Figure 5** Assets search\n",
    "\n",
    "The UI responds with message that no assets are found with the input provided. This is expected since at this moment the assets are not yet created."
   ]
  },
  {
   "cell_type": "markdown",
   "id": "ac56e020-340f-4316-aa34-4ec77ca86ecf",
   "metadata": {},
   "source": [
    "#### Adding assets in the catalog\n",
    "\n",
    "Peter is now ready to start creating assets using API calls. He is using Data Engine Access Service (OMAS) REST API available on Data Lake Platform `cocoMDS1` metadata server."
   ]
  },
  {
   "cell_type": "code",
   "execution_count": null,
   "id": "4eb85468-a48d-4676-a703-d2cbbcd7656a",
   "metadata": {},
   "outputs": [],
   "source": [
    "platformURL         = dataLakePlatformURL\n",
    "serverName          = \"cocoMDS1\""
   ]
  },
  {
   "cell_type": "markdown",
   "id": "b49df08a-5009-4ecc-9cf6-9f2b92cc9acc",
   "metadata": {},
   "source": [
    "To ba able to call Data Engine OMAS endpoints, parameters like unique qualified name of the tool and service account are required."
   ]
  },
  {
   "cell_type": "code",
   "execution_count": null,
   "id": "17bc1f9b-979b-424e-894e-9728ec57e862",
   "metadata": {},
   "outputs": [],
   "source": [
    "cocoETLName         = \"CocoPharma/DataEngine/CocoETL\"\n",
    "cocoETLUser         = \"cocoETLnpa\"\n",
    "dataEngineOMASEndpoint = platformURL + '/servers/' + serverName + '/open-metadata/access-services/data-engine/users/' + cocoETLUser"
   ]
  },
  {
   "cell_type": "markdown",
   "id": "811e30fe-f0e1-4516-ae0f-e79132778483",
   "metadata": {},
   "source": [
    "##### Step 1 - Register the tool\n",
    "\n",
    "External systems interacting with Egeria using Data Engine OMAS need to be registered first. This step is required only once as long as the cocoETLName does not change.\n",
    "In our case, to register the tool properly Peter provides descriptive information that will be useful for others to understand as many details possible about the characteristics of the external source of metadata."
   ]
  },
  {
   "cell_type": "code",
   "execution_count": null,
   "id": "0d702fe8-2b71-45cb-a7a0-296796c43ada",
   "metadata": {},
   "outputs": [],
   "source": [
    "\n",
    "url = dataEngineOMASEndpoint + '/registration'\n",
    "\n",
    "requestBody = {\n",
    "    \"dataEngine\":\n",
    "        {\n",
    "            \"qualifiedName\": cocoETLName,\n",
    "            \"displayName\": \"CocoETL\",\n",
    "            \"description\": \"Requesting to register external data engine capability for Coco Pharmaceuticals in-house Data Platform ETL tool CocoETL.\",\n",
    "            \"engineType\": \"DataEngine\",\n",
    "            \"engineVersion\": \"1\",\n",
    "            \"enginePatchLevel\": \"0\",\n",
    "            \"vendor\": \"Coco Pharmaceuticals\",\n",
    "            \"version\": \"1\",\n",
    "            \"source\": \"CocoPharma\"\n",
    "        }\n",
    "}\n",
    "\n",
    "\n",
    "print(requestBody)\n",
    "postAndPrintResult(url, json=requestBody, headers=None)\n"
   ]
  },
  {
   "cell_type": "markdown",
   "id": "d3addef4-6a8e-4bc7-8848-62d83ddce141",
   "metadata": {},
   "source": [
    "At this point, the tool is properly registered and its name can be used as *externalSourceName* further on.\n",
    "\n",
    "> Note: This information gets stored as [`SoftwareServerCapability`](https://egeria.odpi.org/open-metadata-publication/website/open-metadata-types/0042-Software-Server-Capabilities.html) in Egeria."
   ]
  },
  {
   "cell_type": "markdown",
   "id": "41c11b49-5704-49dc-88d0-7c71e89bbaad",
   "metadata": {
    "tags": []
   },
   "source": [
    "##### Step 2 - Create file assets\n",
    "Lets look at the files. They are stored in well know server location defined by the networkAddress and filesystem location."
   ]
  },
  {
   "cell_type": "code",
   "execution_count": null,
   "id": "5b283081-742d-4642-9dc7-12d6cd6fcd58",
   "metadata": {},
   "outputs": [],
   "source": [
    "networkAddress      = \"filesrv01.coco.net\"\n",
    "filesRoot           = \"file://secured/research/previous-clinical-trials/\""
   ]
  },
  {
   "cell_type": "markdown",
   "id": "4043d6ba-7e95-4e83-bdf0-46bf9c901506",
   "metadata": {},
   "source": [
    "Peter onboards the source file `old-archive.dat`. He is using [`DataFile`](https://egeria.odpi.org/open-metadata-publication/website/open-metadata-types/0220-Files-and-Folders.html) as fileType. "
   ]
  },
  {
   "cell_type": "code",
   "execution_count": null,
   "id": "7453ba60-2d72-42ec-bb0c-b6e36b7e70f4",
   "metadata": {},
   "outputs": [],
   "source": [
    "\n",
    "url = dataEngineOMASEndpoint + '/data-files'\n",
    "\n",
    "fileName1 = \"old-archive.dat\"\n",
    "filePath1 = filesRoot + fileName1\n",
    "fileQualifiedName1 = filePath1 + \"@\" + cocoETLName\n",
    "\n",
    "requestFileBody = {\n",
    "    \"externalSourceName\": cocoETLName,\n",
    "    \"file\": {\n",
    "        \"fileType\": \"DataFile\",\n",
    "        \"qualifiedName\": fileQualifiedName1,\n",
    "        \"displayName\": fileName1,\n",
    "        \"pathName\": filePath1,\n",
    "        \"networkAddress\": networkAddress,\n",
    "        \"columns\": []\n",
    "    }\n",
    "}\n",
    "\n",
    "print(requestFileBody)\n",
    "postAndPrintResult(url, json=requestFileBody, headers=None)\n"
   ]
  },
  {
   "cell_type": "markdown",
   "id": "06484126-fd5c-4aa0-89f0-f541bdc59a12",
   "metadata": {},
   "source": [
    "Next, he calls the same endpoint but this time for the destination file `old-archive.csv`. He is using [`CSVFile`](https://egeria.odpi.org/open-metadata-publication/website/open-metadata-types/0220-Files-and-Folders.html) as fileType."
   ]
  },
  {
   "cell_type": "code",
   "execution_count": null,
   "id": "23506292-3e45-40b1-b9fd-d23d20ec9d78",
   "metadata": {},
   "outputs": [],
   "source": [
    "\n",
    "url = dataEngineOMASEndpoint + '/data-files'\n",
    "\n",
    "fileName2 = \"old-archive.csv\"\n",
    "filePath2 = filesRoot + fileName2\n",
    "fileQualifiedName2 = filePath2 + \"@\" + cocoETLName\n",
    "\n",
    "requestFileBody = {\n",
    "    \"externalSourceName\": cocoETLName,\n",
    "    \"file\": {\n",
    "        \"fileType\": \"CSVFile\",\n",
    "        \"qualifiedName\": fileQualifiedName2,\n",
    "        \"displayName\": fileName2,\n",
    "        \"pathName\": filePath2,\n",
    "        \"networkAddress\": networkAddress,\n",
    "        \"columns\": []\n",
    "    }\n",
    "}\n",
    "\n",
    "print(requestFileBody)\n",
    "postAndPrintResult(url, json=requestFileBody, headers=None)\n"
   ]
  },
  {
   "cell_type": "markdown",
   "id": "66d345c3-8780-4aa4-9cb2-9481aecf04f2",
   "metadata": {},
   "source": [
    "> Note that in both calls, that the columns are not provided because in this exercise we are only focusing on the high level lineage without providing schema level details.\n",
    "\n",
    "##### Step 3 - Create process assets\n",
    "Using adequate name and description for the activity, he then requests new asset to represent the process."
   ]
  },
  {
   "cell_type": "code",
   "execution_count": null,
   "id": "585563cc-eefa-487d-88fe-5b91c32b9232",
   "metadata": {},
   "outputs": [],
   "source": [
    "\n",
    "url = dataEngineOMASEndpoint + '/processes'\n",
    "\n",
    "activityName = \"ConvertFileToCSV\"\n",
    "processQualifiedName = activityName + \"@\" + cocoETLName\n",
    "\n",
    "requestProcessBody = {\n",
    "    \"process\":\n",
    "        {\n",
    "            \"qualifiedName\": processQualifiedName,\n",
    "            \"displayName\": activityName,\n",
    "            \"name\": activityName,\n",
    "            \"description\": \"Process named 'ConvertFileToCSV' representing high level processing activity performed by CocoETL tool.\",\n",
    "            \"owner\": cocoETLUser,\n",
    "            \"updateSemantic\": \"REPLACE\"\n",
    "        },\n",
    "    \"externalSourceName\": cocoETLName\n",
    "}\n",
    "\n",
    "print(requestProcessBody)\n",
    "postAndPrintResult(url, json=requestProcessBody, headers=None)\n"
   ]
  },
  {
   "cell_type": "markdown",
   "id": "84c18a04-b61f-4141-ad8a-637b5b8dcd67",
   "metadata": {},
   "source": [
    "Well done. At this point all the assets are stored in the catalog."
   ]
  },
  {
   "cell_type": "markdown",
   "id": "558f30ea-1156-4154-9513-f038be406ce7",
   "metadata": {},
   "source": [
    "#### Adding lineage mappings in the catalog"
   ]
  },
  {
   "cell_type": "markdown",
   "id": "858f659b-b6ce-4a8d-831f-ea7f65c44423",
   "metadata": {},
   "source": [
    "Finally, he needs to send the lineage mappings connecting the assets. This is done using their fully qualified names."
   ]
  },
  {
   "cell_type": "code",
   "execution_count": null,
   "id": "9f6807b8-849e-45bc-86ec-6e224f4ff0f6",
   "metadata": {},
   "outputs": [],
   "source": [
    "\n",
    "url = dataEngineOMASEndpoint + '/lineage-mappings'\n",
    "\n",
    "requestLineageMappingsBody = {\n",
    "    \"lineageMappings\": [\n",
    "        {\n",
    "            \"sourceAttribute\": fileQualifiedName1,\n",
    "            \"targetAttribute\": processQualifiedName\n",
    "        },\n",
    "        {\n",
    "            \"sourceAttribute\": processQualifiedName,\n",
    "            \"targetAttribute\": fileQualifiedName2\n",
    "        }\n",
    "    ],\n",
    "    \"externalSourceName\": cocoETLName\n",
    "}\n",
    "\n",
    "print(requestLineageMappingsBody)\n",
    "postAndPrintResult(url, json=requestLineageMappingsBody, headers=None)\n"
   ]
  },
  {
   "cell_type": "markdown",
   "id": "f446d1e5-99c9-484e-8bdc-a79ddd83c248",
   "metadata": {},
   "source": [
    "#### Finding assets in the UI and showing lineage"
   ]
  },
  {
   "cell_type": "markdown",
   "id": "e177308e-94ad-4a14-ae50-7a33b426e206",
   "metadata": {},
   "source": [
    "Erin is ready to inspect the catalog again. She goes back to the search page and searches the text \"archive\".\n",
    "This time, she is able to find the file assets Peter created in the previous steps.\n",
    "\n",
    "> Tip: Once logged on, Erin can directly navigate to the search results using https://localhost:8443/asset-catalog/search?q=archive&types=Asset"
   ]
  },
  {
   "cell_type": "markdown",
   "id": "160ca188-86b4-405e-bc24-8ac7fe9eba10",
   "metadata": {},
   "source": [
    "![Figure 1](../images/egeria-ui-asset-catalog-archive-search-results.png)"
   ]
  },
  {
   "cell_type": "markdown",
   "id": "78793b99-f442-430b-9b5a-22610eca98df",
   "metadata": {},
   "source": [
    "Clicking one of the file names, she can access the details page."
   ]
  },
  {
   "cell_type": "markdown",
   "id": "e54721da-f53f-4acf-8fe2-03fb7bda3b5d",
   "metadata": {},
   "source": [
    "![Figure 1](../images/egeria-ui-asset-end-to-end-lineage.png)"
   ]
  },
  {
   "cell_type": "markdown",
   "id": "f91a57d2-cf64-4f10-bc6a-852f49205afa",
   "metadata": {},
   "source": [
    "To inspect the lineage graph, Erin clicks on `End2End`."
   ]
  },
  {
   "cell_type": "markdown",
   "id": "efd56b10-be34-4bd3-bd86-65dca7539633",
   "metadata": {},
   "source": [
    "![Figure 1](../images/egeria-ui-end-to-end-lineage-graph.png)"
   ]
  },
  {
   "cell_type": "markdown",
   "id": "67c48981-7803-46ea-bb43-fc46d672d00f",
   "metadata": {},
   "source": [
    "This step completes **Exercise 1**."
   ]
  },
  {
   "cell_type": "code",
   "execution_count": null,
   "id": "fc0bbfa5-f92e-4352-a9ce-07804ccc85c0",
   "metadata": {},
   "outputs": [],
   "source": []
  }
 ],
 "metadata": {
  "kernelspec": {
   "display_name": "Python 3",
   "language": "python",
   "name": "python3"
  },
  "language_info": {
   "codemirror_mode": {
    "name": "ipython",
    "version": 3
   },
   "file_extension": ".py",
   "mimetype": "text/x-python",
   "name": "python",
   "nbconvert_exporter": "python",
   "pygments_lexer": "ipython3",
   "version": "3.8.8"
  }
 },
 "nbformat": 4,
 "nbformat_minor": 5
}