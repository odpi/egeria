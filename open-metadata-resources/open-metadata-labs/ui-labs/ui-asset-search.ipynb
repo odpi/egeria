{
 "cells": [
  {
   "cell_type": "markdown",
   "metadata": {},
   "source": [
    "![Egeria Logo](https://raw.githubusercontent.com/odpi/egeria/master/assets/img/ODPi_Egeria_Logo_color.png)\n",
    "\n",
    "### Egeria Hands-On Lab\n",
    "# Welcome to the UI Asset Search Lab"
   ]
  },
  {
   "cell_type": "markdown",
   "metadata": {},
   "source": [
    "## Introduction\n",
    "\n",
    "Egeria is an open source project that provides open standards and implementation libraries to connect tools, catalogs and platforms together so they can share information (called metadata) about data and the technology that supports it.\n",
    "\n",
    "In this hands-on lab you will get a chance to have hands-on experience with the UI of Egeria, by searching for assets we add along the way."
   ]
  },
  {
   "cell_type": "markdown",
   "metadata": {},
   "source": [
    "## The Scenario\n",
    "\n",
    "The ODPi Egeria team use the personas and scenarios from the fictitious company called Coco Pharmaceuticals.  (See https://opengovernance.odpi.org/coco-pharmaceuticals/ for more information).\n",
    "\n",
    "As part of the huge business transformation that Coco Pharmaceuticals has embarked on, they\n",
    "have created a data lake for managing data for research, analytics, exchange between their internal organizations and business partners (such as hospitals).  As a result, the data lake has to be\n",
    "designed to handle a wide variety of data, including some highly sensitive and regulated data.\n",
    "\n",
    "In this lab we first create some assets. Afterwards, the UI where we can search for assets is shown. The main characters engaged in this lab are the data analyst named [Peter Profile](https://github.com/odpi/data-governance/blob/master/docs/coco-pharmaceuticals/personas/peter-profile.md), and the data scientist named [Callie Quartile](https://github.com/odpi/data-governance/blob/master/docs/coco-pharmaceuticals/personas/callie-quartile.md)."
   ]
  },
  {
   "cell_type": "markdown",
   "metadata": {},
   "source": [
    "<figure style=\"margin-left: 7%; display:inline-block;\">  \n",
    "  <img src=\"../images/peter-profile.png\">\n",
    "  <figcaption style=\"margin-left: 15%;\"><strong>Peter Profile</strong></figcaption>\n",
    "</figure>\n",
    "\n",
    "<figure style=\"margin-left: 20%; display:inline-block;\">  \n",
    "  <img src=\"../images/callie-quartile.png\">\n",
    "  <figcaption style=\"margin-left: 15%;\"><strong>  Callie Quartile</strong></figcaption>\n",
    "</figure>\n",
    "\n"
   ]
  },
  {
   "cell_type": "markdown",
   "metadata": {},
   "source": [
    "## Setting up\n",
    "\n",
    "Coco Pharmaceuticals make widespread use of ODPi Egeria for tracking and managing their data and related assets.\n",
    "Figure 1 below shows their metadata servers and the Open Metadata and Governance (OMAG) Server Platforms that are hosting them.  Each metadata server supports a department in the organization.  The servers are distributed across the platform to even out the workload.  Servers can be moved to a different platform if needed.\n",
    "\n",
    "![Figure 1](../images/coco-pharmaceuticals-systems-omag-server-platforms.png)\n",
    "> **Figure 1:** Coco Pharmaceuticals' OMAG Server Platforms\n",
    "\n",
    "The code below sets up the network addresses for the three platforms.  This varies depending on whether you are running them locally, or on **kubernetes**."
   ]
  },
  {
   "cell_type": "code",
   "execution_count": null,
   "metadata": {},
   "outputs": [],
   "source": [
    "%run ../common/environment-check.ipynb"
   ]
  },
  {
   "cell_type": "markdown",
   "metadata": {},
   "source": [
    "----\n",
    "Callie is using the data lake metadata server called `cocoMDS4`. This server is hosted on the Data Lake OMAG Server Platform. It enables business users and the executive team to access data from the data lake.\n",
    "\n",
    "Check that `cocoMDS4` is running.  \n",
    "\n",
    "If any of the platforms are not running, follow [this link to set up and run the platform](https://egeria.odpi.org/open-metadata-resources/open-metadata-labs/).  If any server is reporting that it is not configured then\n",
    "run the steps in the **[Server Configuration](../egeria-server-config.ipynb)** lab to configure\n",
    "the servers.  Then re-run the previous step to ensure all of the servers are started."
   ]
  },
  {
   "cell_type": "markdown",
   "metadata": {},
   "source": [
    "----\n",
    "## Exercise 1\n",
    "\n",
    "### Generating some assets\n",
    "\n",
    "Before we can interact with the UI, we have to create some data in the metadata repository. This section is a simplified version of the [Building a Data Catalog Lab](../asset-management-labs/building-a-data-catalog.ipynb). If you haven't done so already, it is recommended that you also check those labs out.\n",
    "\n",
    "For this part of the exercises, Peter is going to create some CSV files using Asset Owner OMAS located in `cocoMDS1`. The code block below describes their basic attributes."
   ]
  },
  {
   "cell_type": "code",
   "execution_count": null,
   "metadata": {},
   "outputs": [],
   "source": [
    "csv_file_list = [\n",
    "    {\n",
    "        \"displayName\": \"List of patients\",\n",
    "        \"description\": \"Basic information regarding patients recorded in February 2020.\",\n",
    "        \"fullPath\": \"file://secured/research/patients.csv\"\n",
    "    },\n",
    "    {\n",
    "        \"displayName\": \"Log of treatments\",\n",
    "        \"description\": \"Treatments carried out for patients in 2019.\",\n",
    "        \"fullPath\": \"file://secured/research/treatments.csv\"\n",
    "    },\n",
    "]"
   ]
  },
  {
   "cell_type": "markdown",
   "metadata": {},
   "source": [
    "Afterwards, we will have our Data Analyst, [Peter Profile](https://github.com/odpi/data-governance/blob/master/docs/coco-pharmaceuticals/personas/peter-profile.md), add these CSV files into the repository. You can see two lists of GUIDs for the two CSV files we have added. For a more thorough explanation for this step, check out the [Building a Data Catalog lab](../asset-management-labs/building-a-data-catalog.ipynb)."
   ]
  },
  {
   "cell_type": "code",
   "execution_count": null,
   "metadata": {},
   "outputs": [],
   "source": [
    "for csv_file_specs in csv_file_list:\n",
    "    response_guid = assetOwnerCreateCSVAsset(\n",
    "        serverName=cocoMDS1Name, \n",
    "        serverPlatformName=cocoMDS1PlatformName, \n",
    "        serverPlatformURL=cocoMDS1PlatformURL, \n",
    "        userId=petersUserId,\n",
    "        **csv_file_specs\n",
    "    )\n",
    "    printGUIDList(response_guid)"
   ]
  },
  {
   "cell_type": "markdown",
   "metadata": {},
   "source": [
    "## Exercise 2\n",
    "\n",
    "### Search for assets in the UI"
   ]
  },
  {
   "cell_type": "markdown",
   "metadata": {},
   "source": [
    "Now we can get the URL through the environment variable, with a default value of `https://localhost:8443`:"
   ]
  },
  {
   "cell_type": "code",
   "execution_count": null,
   "metadata": {},
   "outputs": [],
   "source": [
    "uiURL = os.environ.get('uiExternalURL', 'https://localhost:8443')\n",
    "print(uiURL)"
   ]
  },
  {
   "cell_type": "markdown",
   "metadata": {},
   "source": [
    "Viting the URL leads us to the Egeria UI"
   ]
  },
  {
   "cell_type": "markdown",
   "metadata": {},
   "source": [
    "<img src=\"../images/egeria-ui-login.png\" width=\"800\" height=\"100\" alt=\"Figure 2\" />\n",
    "\n",
    "> **Figure 2:** Egeria UI's login page"
   ]
  },
  {
   "cell_type": "markdown",
   "metadata": {},
   "source": [
    "and we can login with the credential of Callie Quartile:\n",
    "```\n",
    "Username: calliequartile\n",
    "Password: admin\n",
    "```"
   ]
  },
  {
   "cell_type": "markdown",
   "metadata": {},
   "source": [
    "---\n",
    "After logging in, we should end up at the asset search page:\n",
    "\n",
    "<img src=\"../images/egeria-ui-asset-search.png\" width=\"800\" height=\"100\" alt=\"Figure 3\" />\n",
    "\n",
    "> **Figure 3:** Egeria UI's asset search page"
   ]
  },
  {
   "cell_type": "markdown",
   "metadata": {},
   "source": [
    "---\n",
    "\n",
    "Next, searching for `CSV` yields the results as follows:\n",
    "\n",
    "<img src=\"../images/egeria-ui-asset-list.png\" width=\"800\" height=\"100\" alt=\"Figure 4\" />\n",
    "\n",
    "> **Figure 4:** Egeria UI's asset search result"
   ]
  },
  {
   "cell_type": "markdown",
   "metadata": {},
   "source": [
    "The following attributes are present:\n",
    "- **Name**: Name of the asset.\n",
    "- **Type**: Asset type.\n",
    "- **Description**: Text description of the asset. In our example this field is empty for all four results.\n",
    "- **QualifiedName**: Unique identifier to differentiate different assets.\n",
    "- **Options**: Additional interactive options to interact with the returned assets. The `Lineage` hyperlink is clickable, but asset lineage is not within the scope of this tutorial."
   ]
  }
 ],
 "metadata": {
  "kernelspec": {
   "display_name": "Python 3",
   "language": "python",
   "name": "python3"
  },
  "language_info": {
   "codemirror_mode": {
    "name": "ipython",
    "version": 3
   },
   "file_extension": ".py",
   "mimetype": "text/x-python",
   "name": "python",
   "nbconvert_exporter": "python",
   "pygments_lexer": "ipython3",
   "version": "3.7.3"
  }
 },
 "nbformat": 4,
 "nbformat_minor": 4
}
