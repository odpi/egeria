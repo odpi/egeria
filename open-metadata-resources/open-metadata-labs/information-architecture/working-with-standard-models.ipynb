{
 "cells": [
  {
   "cell_type": "markdown",
   "metadata": {},
   "source": [
    "![Egeria Logo](https://raw.githubusercontent.com/odpi/egeria/master/assets/img/ODPi_Egeria_Logo_color.png)\n",
    "\n",
    "### Egeria Hands-On Lab\n",
    "# Welcome to the Working with Standard Models Lab"
   ]
  },
  {
   "cell_type": "markdown",
   "metadata": {},
   "source": [
    "## Introduction\n",
    "\n",
    "Egeria is an open source project that provides open standards and implementation libraries to connect tools, catalogs and platforms together so they can share information (called metadata) about data and the technology that supports it.\n",
    "\n",
    "In this hands-on lab you will get to use Egeria to load and view a standard glossary and data model.\n",
    "\n",
    "Standard models are provided by specialist organizations, consortiums and other types of industry groups to capture a description of the data that is typically used in a specific scenario.  Often the model includes descriptive information as well as structural information documenting how the data is organized and linked together.\n",
    "\n",
    "In this lab, we are going to work with the Cloud Information Model (CIM) see [cloudinformationmodel.org](http://cloudinformationmodel.org).  This model covers the following subject areas:\n",
    "\n",
    "* Party – people, their roles and organizations.\n",
    "* Product – product descriptions, structures and packaging.\n",
    "* Sales Order – customer orders for goods and services.\n",
    "* Payment Method – payment methods including cards, coupons and digital wallets.\n",
    "* Payment – individual payments for goods and services.\n",
    "* Shipment – shipment of goods and services to the customer to fulfil an order.\n",
    "\n",
    "This means the CIM can provide common data structures for new services spanning customer and employee interaction around typical commercial activities such as buying and selling of goods and services.\n",
    "\n",
    "The motivation behind the cloud information model is to support organizations that are transforming their digital services to run on a variety of cloud platforms and with their own data centres.  Often, they are dealing with systems built on many different generations of technology, with data distributed amongst them.  The CIM provides a common language to describe the different types of data.\n",
    "\n",
    "This is extremely valuable to the open metadata and governance ecosystem with its focus on building an open and transparent view of data across an organization. \n",
    "\n",
    "This lab notebook enables you to explore the contents of the CIM and explains how it can help you when setting up your own open metadata and governance ecosystem.\n"
   ]
  },
  {
   "cell_type": "markdown",
   "metadata": {},
   "source": [
    "## The scenario\n",
    "\n",
    "<img src=\"https://raw.githubusercontent.com/odpi/data-governance/master/docs/coco-pharmaceuticals/personas/erin-overview.png\" style=\"float:left\">\n",
    "\n",
    "The ODPi Egeria team use the personas and scenarios from the fictitious company called Coco Pharmaceuticals. (See [https://opengovernance.odpi.org/coco-pharmaceuticals/](https://opengovernance.odpi.org/coco-pharmaceuticals/) for more information).\n",
    "\n",
    "In this lab, we are joining **Erin Overview**, their information architect, as she works through the changes needed to their sales and supply chain processes to support the shift from selling traditional generic medicines to personalized medicine.\n",
    "Erin's userId is `erinoverview`."
   ]
  },
  {
   "cell_type": "code",
   "execution_count": null,
   "metadata": {},
   "outputs": [],
   "source": [
    "erinsUserId  = \"erinoverview\""
   ]
  },
  {
   "cell_type": "markdown",
   "metadata": {},
   "source": [
    "<img src=\"https://raw.githubusercontent.com/odpi/data-governance/master/docs/coco-pharmaceuticals/personas/harry-hopeful.png\" style=\"float:right\">\n",
    "\n",
    "Erin is working with **Harry Hopeful** from sales on how the hospitals will order products, issue invoices and make payments.\n",
    "He has been talking to a number of the hospitals who are customer's of Coco Pharmaceuticals.  In general the hospitals are supportive of the new approach.  They see that they will not need to keep so much inventory since orders are per patient and just when needed.  All parties agree, however, that they need to protect the privacy of the patients and medical staff involved and not accidentally leak personal details through the order fulfillment process.\n",
    "\n",
    "They need a clear definition of the process and how vital documents such as orders and invoices are filled out and protected. Erin volunteers to create a draft of the process and the associated data model.  She wants to use application independent terms in her definitions since they all use different systems.  She decides to use the CIM since it covers their problem space.\n"
   ]
  },
  {
   "cell_type": "markdown",
   "metadata": {},
   "source": [
    "## Setting up\n",
    "\n",
    "Coco Pharmaceuticals makes widespread use of ODPi Egeria for tracking and managing their data and related assets.\n",
    "Figure 1 below shows their metadata servers and the Open Metadata and Governance (OMAG) Server Platforms that are hosting them.  Each metadata server supports a department in the organization.  The servers are distributed across the platform to even out the workload.  Servers can be moved to a different platform if needed.\n",
    "\n",
    "![Figure 1](../images/coco-pharmaceuticals-systems-omag-server-platforms-metadata-server.png)\n",
    "> **Figure 1:** Coco Pharmaceuticals' OMAG Server Platforms\n",
    "\n",
    "The code below sets up the network addresses for the three platforms.  This varies depending on whether you are running them locally, or on **kubernetes**."
   ]
  },
  {
   "cell_type": "code",
   "execution_count": null,
   "metadata": {},
   "outputs": [],
   "source": [
    "%run ../common/environment-check.ipynb"
   ]
  },
  {
   "cell_type": "markdown",
   "metadata": {},
   "source": [
    "Erin is using the governance metadata server called `cocoMDS2`.  This service is hosted on the Core OMAG Server Platform."
   ]
  },
  {
   "cell_type": "markdown",
   "metadata": {},
   "source": [
    "----"
   ]
  },
  {
   "cell_type": "markdown",
   "metadata": {},
   "source": [
    "## Loading the model content into a metadata server\n",
    "\n",
    "Standard models are released in many different formats, some following open standards and others using a proprietary standard, often defined by a particular modeling tool.  Egeria typically provides a parser to read the specific model format and then a builder to convert the content into an open metadata archive and then a writer to write out the contents to a file for distribution as shown in figure 2.\n",
    "\n",
    "\n",
    "![Figure 2](../images/design-model-to-archive-load.png)\n",
    "> **Figure 2:** Creating and loading an open metadata archive\n",
    "\n",
    "This hands on lab uses a version of the CIM model that is shipped as an open metadata archive with the Egeria release.\n",
    "This may not be the latest version so if you wish to use this model in your project we recommend that you download\n",
    "the latest version to the model and create a new archive.\n",
    "\n",
    "The command to load the archive into the `cocoMDS2` metadata repository is shown below followed by a command to retrieve the CIM glossary description from the metadata repository.  The `glossaryId` is the unique identifier\n",
    "for the CIM glossary.  The retrieved glossary description includes the title of the glossary and a description which is printed out."
   ]
  },
  {
   "cell_type": "code",
   "execution_count": null,
   "metadata": {},
   "outputs": [],
   "source": [
    "archiveFileName = 'content-packs/CloudInformationModel.json'\n",
    "loadArchiveURL = cocoMDS2PlatformURL +  '/open-metadata/admin-services/users/' +  adminUserId + '/servers/' + cocoMDS2Name + '/instance/open-metadata-archives/file'\n",
    "\n",
    "print(\" \")\n",
    "response = requests.post(loadArchiveURL, archiveFileName)\n",
    "print (\"Returns:\")\n",
    "prettyResponse = json.dumps(response.json(), indent=4)\n",
    "print (prettyResponse)\n",
    "print (\" \")\n",
    "\n",
    "getGlossaryURL = cocoMDS2PlatformURL + '/servers/' + cocoMDS2Name + '/open-metadata/access-services/glossary-view/users/' +  erinsUserId + '/glossaries'\n",
    "\n",
    "response = requests.get(getGlossaryURL)\n",
    "\n",
    "if response.status_code == 200:\n",
    "    result = response.json().get('result')\n",
    "    if result is not None:\n",
    "        if len(result) > 0:\n",
    "            for x in range(len(result)):\n",
    "                glossary = result[x]\n",
    "                glossaryId = glossary.get('guid')\n",
    "                glossaryUsage = glossary.get('usage')\n",
    "                glossaryDisplayName = glossary.get('displayName')\n",
    "                print (\"GlossaryId: \" + glossaryId + \"; \" + glossaryDisplayName + \": \" + glossaryUsage)\n",
    "                glossaryDescription = glossary.get('description')\n",
    "                print (\" -> \" + glossaryDescription)\n",
    "        else:\n",
    "            print (\"No glossaries loaded \")\n",
    "            print (\"Response was:\")\n",
    "            prettyResponse = json.dumps(response.json(), indent=4)\n",
    "            print (prettyResponse)\n",
    "            print (\" \")\n",
    "    else:\n",
    "        print (\"No glossaries returned \")\n",
    "else:\n",
    "    print (\"Unable to call server\")\n"
   ]
  },
  {
   "cell_type": "markdown",
   "metadata": {},
   "source": [
    "----\n",
    "The glossary itself is organized into a hierarchy of **glossary categories**.  Within the categories are **glossary terms**.  Each term describes a concept or phrase used in the model.\n",
    "\n",
    "The code below locates the root of the category hierarchy and navigates down the category hierarchy printing out the category names to reveal the structure of the glossary.\n"
   ]
  },
  {
   "cell_type": "code",
   "execution_count": null,
   "metadata": {},
   "outputs": [],
   "source": [
    "\n",
    "indent = \"    \"\n",
    "arrow = \"--> \"\n",
    "\n",
    "glossaryViewURLRoot = cocoMDS2PlatformURL + '/servers/' + cocoMDS2Name +  '/open-metadata/access-services/glossary-view/users/' +  erinsUserId\n",
    "getCategoryURLRoot = glossaryViewURLRoot + '/categories/'\n",
    "\n",
    "getGlossaryMoreInfoURLRoot = cocoMDS2PlatformURL + '/servers/' + cocoMDS2Name + '/open-metadata/common-services/asset-consumer/connected-asset/users/' +  erinsUserId + '/referenceables/'\n",
    "getGlossaryMoreInfoURLTail = '/more-information?elementStart=0&maxElements=50'\n",
    "\n",
    "\n",
    "def getNestedCategories(whitespace, categoryGUID):\n",
    "    response = requests.get(getCategoryURLRoot + categoryGUID + '/subcategories?from=0&size=100')\n",
    "    result = response.json().get('result')\n",
    "    for x in range(len(result)):\n",
    "        guid = result[x].get('guid')\n",
    "        getCategory(whitespace, guid)\n",
    "\n",
    "    \n",
    "def getCategory(whitespace, categoryGUID):\n",
    "    response = requests.get(getCategoryURLRoot + categoryGUID)\n",
    "    result = response.json().get('result')\n",
    "    print (whitespace + arrow + result[0].get('displayName'))\n",
    "    indentedWhitespace = whitespace + indent\n",
    "    getNestedCategories(indentedWhitespace, categoryGUID)\n",
    "\n",
    "response = requests.get(getGlossaryMoreInfoURLRoot + glossaryId + getGlossaryMoreInfoURLTail)\n",
    "printResponse(response)\n",
    "moreDetailList = response.json().get('list')\n",
    "if moreDetailList:\n",
    "    topLevelCategoryId = moreDetailList[0].get('guid')\n",
    "    getCategory(\"\", topLevelCategoryId)\n",
    "           "
   ]
  },
  {
   "cell_type": "markdown",
   "metadata": {},
   "source": [
    "----\n",
    "As you can see there are two main categories: one for **property groups** and one for **subject areas**.  The property groups describe collections of related properties that appear in the model.  These are then used in\n",
    "concept beads (objects) in the model.  The subject areas organize the concept beads into releated areas.\n",
    "\n",
    "The next piece of code enables you to look at the details of a category and list the terms within it.\n",
    "It is set up to view the **Account** category.  However you can view a different category by changing the name\n",
    "in the search string.  If there are multiple categories with the same name then they will be displayed\n",
    "one after the other.\n"
   ]
  },
  {
   "cell_type": "code",
   "execution_count": null,
   "metadata": {},
   "outputs": [],
   "source": [
    "\n",
    "searchForCategory = \"Party\"\n",
    "\n",
    "getAllGlossaryCategories = glossaryViewURLRoot + '/glossaries/' + glossaryId + '/categories?from=0&size=500'\n",
    "getAllCategoryTermsRoot  = glossaryViewURLRoot + '/categories/'\n",
    "getAllCategoryTermsTail  = '/terms?from=0&size=500'\n",
    "\n",
    "nameWidth=30\n",
    "descriptionWidth=80\n",
    "\n",
    "def displayTerm(displayName, description):\n",
    "    descriptionLength = len(description)\n",
    "    if descriptionLength <= descriptionWidth:\n",
    "        print('{0: <{1}}'.format(displayName, nameWidth) + \": \"  + description)\n",
    "    else:\n",
    "        textPointer = 0\n",
    "        print('{0: <{1}}'.format(displayName, nameWidth) + \": \"  + description[textPointer:textPointer + descriptionWidth])\n",
    "        textPointer = textPointer + descriptionWidth\n",
    "        while textPointer < descriptionLength:\n",
    "            print('{0: <{1}}'.format(\" \", nameWidth) + \": \"  + description[textPointer:textPointer + descriptionWidth])\n",
    "            textPointer = textPointer + descriptionWidth\n",
    "\n",
    "    \n",
    "def getTermsForCategory(guid, displayName):\n",
    "    response = requests.get(getAllCategoryTermsRoot + guid + getAllCategoryTermsTail)\n",
    "    result = response.json().get('result')\n",
    "    for x in range(len(result)):\n",
    "        if x == 0:\n",
    "            print(\" \")\n",
    "            print(\"Terms for category: \" + displayName)\n",
    "            print(\"-------------------------------------------------------------------------------------------\")\n",
    "        guid = result[x].get('guid')\n",
    "        termName = result[x].get('displayName')\n",
    "        description = result[x].get('description')\n",
    "        displayTerm(termName, description)\n",
    "        \n",
    "def findCategories(searchString):\n",
    "    categoryCount = 0\n",
    "    response = requests.get(getAllGlossaryCategories)\n",
    "    result = response.json().get('result')\n",
    "    for x in range(len(result)):\n",
    "        guid = result[x].get('guid')\n",
    "        displayName = result[x].get('displayName')\n",
    "        if displayName == searchString:\n",
    "            getTermsForCategory(guid, displayName)\n",
    "            categoryCount=categoryCount+1\n",
    "    if categoryCount == 0:\n",
    "        print(\"no results\")\n",
    "        \n",
    "print(\" \")\n",
    "findCategories(searchForCategory)     \n",
    "print(\" \")\n"
   ]
  },
  {
   "cell_type": "markdown",
   "metadata": {},
   "source": [
    "----\n",
    "\n",
    "The final view of the glossary part of the CIM is a search for terms with similar names. You can change the setting of `searchName` to explore other terms."
   ]
  },
  {
   "cell_type": "code",
   "execution_count": null,
   "metadata": {},
   "outputs": [],
   "source": [
    "\n",
    "findGlossaryTermURL = cocoMDS2PlatformURL + '/servers/' + cocoMDS2Name +  '/open-metadata/access-services/asset-consumer/users/' +  erinsUserId + '/meanings/by-search-string?startFrom=0&pageSize=100'\n",
    "getGlossaryTermURL = cocoMDS2PlatformURL + '/servers/' + cocoMDS2Name +  '/open-metadata/access-services/asset-consumer/users/' +  erinsUserId + '/meanings/by-name/?startFrom=0&pageSize=100'\n",
    "\n",
    "def printMeanings(meanings):\n",
    "    if meanings is not None:\n",
    "        for x in range(len(meanings)):\n",
    "            displayName = meanings[x].get('displayName')\n",
    "            description = meanings[x].get('description')\n",
    "            displayTerm(displayName, description)\n",
    "    else:\n",
    "        print(\"    no terms found\")\n",
    "    \n",
    "\n",
    "def findTerms(searchString):\n",
    "    response = requests.post(findGlossaryTermURL, searchString) \n",
    "    if response.status_code == 200:\n",
    "        print(\"Results found for search string: \" + searchString)\n",
    "        print(\"-------------------------------------------------------------------------------------------\")\n",
    "        meanings = response.json().get('meanings')\n",
    "        printMeanings(meanings)\n",
    "    else:\n",
    "        print(\"no results\")\n",
    "\n",
    "\n",
    "def getTerms(searchString):\n",
    "    response = requests.post(findGlossaryTermURL, searchString)\n",
    "    if response.status_code == 200:\n",
    "        print(\"Terms exactly matching: \" + searchString)\n",
    "        print(\"-------------------------------------------------------------------------------------------\")\n",
    "        meanings = response.json().get('meanings')\n",
    "        printMeanings(meanings)\n",
    "    else:\n",
    "        print(\"no results\")\n",
    "\n",
    "searchName=\"Party\"\n",
    "searchString=\".*\" + searchName + \".*\"\n",
    "\n",
    "print(\" \")\n",
    "findTerms(searchString)\n",
    "print(\" \")\n",
    "print(\" \")\n",
    "getTerms(searchName)\n",
    "print(\" \")\n"
   ]
  },
  {
   "cell_type": "code",
   "execution_count": null,
   "metadata": {},
   "outputs": [],
   "source": []
  },
  {
   "cell_type": "code",
   "execution_count": null,
   "metadata": {},
   "outputs": [],
   "source": []
  }
 ],
 "metadata": {
  "kernelspec": {
   "display_name": "Python 3",
   "language": "python",
   "name": "python3"
  },
  "language_info": {
   "codemirror_mode": {
    "name": "ipython",
    "version": 3
   },
   "file_extension": ".py",
   "mimetype": "text/x-python",
   "name": "python",
   "nbconvert_exporter": "python",
   "pygments_lexer": "ipython3",
   "version": "3.7.3"
  }
 },
 "nbformat": 4,
 "nbformat_minor": 4
}
